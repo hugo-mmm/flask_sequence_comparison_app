{
 "cells": [
  {
   "cell_type": "markdown",
   "id": "160b012d-250b-4f24-b3e0-069da1e032ba",
   "metadata": {},
   "source": [
    "<img src=\"https://www.silicolife.com/wp-content/themes/sage/assets/images/SILICOLIFE_LOGO_SVG.svg\" alt=\"SilicoLife Logo\" style=\"min-width: 300px; width: 35%\" />\n",
    "\n",
    "---\n",
    "\n",
    "# SETUP of FLASK APP\n",
    "This will be used to integrate Python code into Google Sheets"
   ]
  },
  {
   "cell_type": "markdown",
   "id": "c9bf7cf2-ef11-4a91-b63d-ed14ba5fc05f",
   "metadata": {},
   "source": [
    "Next steps:\n",
    "1. Open a new Terminal window and type cd /Users/hmacedo/SynologyDrive/Jupyter/Flask\n",
    "2. Next, type \"source activate conda3.10\"\n",
    "3. Next, type \"python app.py\"\n",
    "\n",
    "If needed, install the following via the terminal / command prompt (if an error is returned when running the app):"
   ]
  },
  {
   "cell_type": "code",
   "execution_count": 2,
   "id": "ba212474-70e5-42a0-8633-cda0bc3d176c",
   "metadata": {},
   "outputs": [],
   "source": [
    "pip install flask"
   ]
  },
  {
   "cell_type": "code",
   "execution_count": null,
   "id": "182d2524-d9c6-4f1e-a7ef-802469d42be9",
   "metadata": {},
   "outputs": [],
   "source": [
    "conda install -c conda-forge biopython"
   ]
  },
  {
   "cell_type": "code",
   "execution_count": null,
   "id": "5a3d9ce8-f8fe-490f-b924-acb597ccd670",
   "metadata": {},
   "outputs": [],
   "source": []
  }
 ],
 "metadata": {
  "kernelspec": {
   "display_name": "Python 3 (ipykernel)",
   "language": "python",
   "name": "python3"
  },
  "language_info": {
   "codemirror_mode": {
    "name": "ipython",
    "version": 3
   },
   "file_extension": ".py",
   "mimetype": "text/x-python",
   "name": "python",
   "nbconvert_exporter": "python",
   "pygments_lexer": "ipython3",
   "version": "3.10.11"
  }
 },
 "nbformat": 4,
 "nbformat_minor": 5
}
